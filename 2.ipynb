{
 "cells": [
  {
   "cell_type": "code",
   "execution_count": 1,
   "metadata": {},
   "outputs": [
    {
     "data": {
      "text/html": [
       "<div>\n",
       "<style scoped>\n",
       "    .dataframe tbody tr th:only-of-type {\n",
       "        vertical-align: middle;\n",
       "    }\n",
       "\n",
       "    .dataframe tbody tr th {\n",
       "        vertical-align: top;\n",
       "    }\n",
       "\n",
       "    .dataframe thead th {\n",
       "        text-align: right;\n",
       "    }\n",
       "</style>\n",
       "<table border=\"1\" class=\"dataframe\">\n",
       "  <thead>\n",
       "    <tr style=\"text-align: right;\">\n",
       "      <th></th>\n",
       "      <th>fever</th>\n",
       "      <th>cough</th>\n",
       "      <th>tiredness</th>\n",
       "      <th>headache</th>\n",
       "      <th>stuffy nose</th>\n",
       "      <th>runny nose</th>\n",
       "      <th>sneezing</th>\n",
       "      <th>sore throat</th>\n",
       "      <th>diagnosis</th>\n",
       "    </tr>\n",
       "  </thead>\n",
       "  <tbody>\n",
       "    <tr>\n",
       "      <th>0</th>\n",
       "      <td>1</td>\n",
       "      <td>1</td>\n",
       "      <td>1</td>\n",
       "      <td>0</td>\n",
       "      <td>0</td>\n",
       "      <td>0</td>\n",
       "      <td>0</td>\n",
       "      <td>0</td>\n",
       "      <td>covid19</td>\n",
       "    </tr>\n",
       "    <tr>\n",
       "      <th>1</th>\n",
       "      <td>0</td>\n",
       "      <td>1</td>\n",
       "      <td>1</td>\n",
       "      <td>1</td>\n",
       "      <td>0</td>\n",
       "      <td>0</td>\n",
       "      <td>0</td>\n",
       "      <td>0</td>\n",
       "      <td>covid19</td>\n",
       "    </tr>\n",
       "    <tr>\n",
       "      <th>2</th>\n",
       "      <td>1</td>\n",
       "      <td>1</td>\n",
       "      <td>1</td>\n",
       "      <td>0</td>\n",
       "      <td>0</td>\n",
       "      <td>0</td>\n",
       "      <td>0</td>\n",
       "      <td>0</td>\n",
       "      <td>covid19</td>\n",
       "    </tr>\n",
       "    <tr>\n",
       "      <th>3</th>\n",
       "      <td>1</td>\n",
       "      <td>1</td>\n",
       "      <td>1</td>\n",
       "      <td>0</td>\n",
       "      <td>0</td>\n",
       "      <td>0</td>\n",
       "      <td>0</td>\n",
       "      <td>0</td>\n",
       "      <td>covid19</td>\n",
       "    </tr>\n",
       "    <tr>\n",
       "      <th>4</th>\n",
       "      <td>1</td>\n",
       "      <td>1</td>\n",
       "      <td>1</td>\n",
       "      <td>0</td>\n",
       "      <td>0</td>\n",
       "      <td>0</td>\n",
       "      <td>0</td>\n",
       "      <td>0</td>\n",
       "      <td>covid19</td>\n",
       "    </tr>\n",
       "  </tbody>\n",
       "</table>\n",
       "</div>"
      ],
      "text/plain": [
       "   fever  cough  tiredness  headache  stuffy nose  runny nose  sneezing  \\\n",
       "0      1      1          1         0            0           0         0   \n",
       "1      0      1          1         1            0           0         0   \n",
       "2      1      1          1         0            0           0         0   \n",
       "3      1      1          1         0            0           0         0   \n",
       "4      1      1          1         0            0           0         0   \n",
       "\n",
       "   sore throat diagnosis  \n",
       "0            0   covid19  \n",
       "1            0   covid19  \n",
       "2            0   covid19  \n",
       "3            0   covid19  \n",
       "4            0   covid19  "
      ]
     },
     "execution_count": 1,
     "metadata": {},
     "output_type": "execute_result"
    }
   ],
   "source": [
    "import pandas as pd \n",
    "medical_dataset=pd.read_csv('medical_data.csv')\n",
    "medical_dataset.head()"
   ]
  },
  {
   "cell_type": "code",
   "execution_count": 8,
   "metadata": {},
   "outputs": [],
   "source": [
    "from sklearn.tree import DecisionTreeClassifier\n",
    "def diagnose_v4(train_dataset:pd.DataFrame):\n",
    "    model=DecisionTreeClassifier(random_state=1)\n",
    "    train_patient_symptoms=train_dataset.drop(columns=['diagnosis'])\n",
    "    train_diagnoses=train_dataset['diagnosis']\n",
    "    model.fit(train_patient_symptoms, train_diagnoses)\n",
    "    return model"
   ]
  },
  {
   "cell_type": "code",
   "execution_count": 9,
   "metadata": {},
   "outputs": [
    {
     "name": "stdout",
     "output_type": "stream",
     "text": [
      "(1400, 9)\n",
      "(600, 9)\n"
     ]
    }
   ],
   "source": [
    "from sklearn.model_selection import train_test_split \n",
    "train_data, test_data = train_test_split(medical_dataset, test_size=0.3, random_state=1)\n",
    "#print the shapes (rows x columns) of the two datasets\n",
    "print(train_data.shape)\n",
    "print(test_data.shape)"
   ]
  },
  {
   "cell_type": "code",
   "execution_count": 10,
   "metadata": {},
   "outputs": [
    {
     "name": "stdout",
     "output_type": "stream",
     "text": [
      "['allergies' 'common cold' 'covid19' 'flu']\n"
     ]
    },
    {
     "data": {
      "text/plain": [
       "[Text(0.5, 0.875, 'fever <= 0.5\\ngini = 0.75\\nsamples = 1400\\nvalue = [354, 345, 358, 343]'),\n",
       " Text(0.25, 0.625, 'sore throat <= 0.5\\ngini = 0.606\\nsamples = 791\\nvalue = [354, 340, 71, 26]'),\n",
       " Text(0.125, 0.375, 'runny nose <= 0.5\\ngini = 0.497\\nsamples = 526\\nvalue = [354, 101, 58, 13]'),\n",
       " Text(0.0625, 0.125, '\\n  (...)  \\n'),\n",
       " Text(0.1875, 0.125, '\\n  (...)  \\n'),\n",
       " Text(0.375, 0.375, 'tiredness <= 0.5\\ngini = 0.182\\nsamples = 265\\nvalue = [0, 239, 13, 13]'),\n",
       " Text(0.3125, 0.125, '\\n  (...)  \\n'),\n",
       " Text(0.4375, 0.125, '\\n  (...)  \\n'),\n",
       " Text(0.75, 0.625, 'sore throat <= 0.5\\ngini = 0.507\\nsamples = 609\\nvalue = [0, 5, 287, 317]'),\n",
       " Text(0.625, 0.375, 'sneezing <= 0.5\\ngini = 0.387\\nsamples = 317\\nvalue = [0, 2, 235, 80]'),\n",
       " Text(0.5625, 0.125, '\\n  (...)  \\n'),\n",
       " Text(0.6875, 0.125, '\\n  (...)  \\n'),\n",
       " Text(0.875, 0.375, 'headache <= 0.5\\ngini = 0.309\\nsamples = 292\\nvalue = [0, 3, 52, 237]'),\n",
       " Text(0.8125, 0.125, '\\n  (...)  \\n'),\n",
       " Text(0.9375, 0.125, '\\n  (...)  \\n')]"
      ]
     },
     "execution_count": 10,
     "metadata": {},
     "output_type": "execute_result"
    },
    {
     "data": {
      "image/png": "[encoded data removed]",
      "text/plain": [
       "<Figure size 864x432 with 1 Axes>"
      ]
     },
     "metadata": {
      "needs_background": "light"
     },
     "output_type": "display_data"
    }
   ],
   "source": [
    "from sklearn.tree import plot_tree\n",
    "import matplotlib.pyplot as plt\n",
    "my_tree=diagnose_v4(train_data) # train a model\n",
    "print(my_tree.classes_) # print the possible target labels (diagnoses)\n",
    "plt.figure(figsize=(12,6)) # size of the visualization, in inches\n",
    "# plot the tree\n",
    "plot_tree(my_tree,\n",
    "          max_depth=2,\n",
    "          fontsize=10,\n",
    "          feature_names=medical_dataset.columns[:-1]\n",
    ")"
   ]
  },
  {
   "cell_type": "code",
   "execution_count": 11,
   "metadata": {},
   "outputs": [
    {
     "data": {
      "text/plain": [
       "0.8166666666666667"
      ]
     },
     "execution_count": 11,
     "metadata": {},
     "output_type": "execute_result"
    }
   ],
   "source": [
    "from sklearn.metrics import accuracy_score,confusion_matrix\n",
    "test_patient_symptoms=test_data.drop(columns=['diagnosis']) \n",
    "test_diagnoses=test_data['diagnosis']\n",
    "pred=my_tree.predict(test_patient_symptoms)\n",
    "accuracy_score(test_diagnoses,pred)"
   ]
  },
  {
   "cell_type": "code",
   "execution_count": null,
   "metadata": {},
   "outputs": [],
   "source": []
  }
 ],
 "metadata": {
  "kernelspec": {
   "display_name": "Python 3",
   "language": "python",
   "name": "python3"
  },
  "language_info": {
   "codemirror_mode": {
    "name": "ipython",
    "version": 3
   },
   "file_extension": ".py",
   "mimetype": "text/x-python",
   "name": "python",
   "nbconvert_exporter": "python",
   "pygments_lexer": "ipython3",
   "version": "3.8.5"
  }
 },
 "nbformat": 4,
 "nbformat_minor": 4
}
